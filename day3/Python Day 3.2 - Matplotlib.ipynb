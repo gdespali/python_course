{
 "cells": [
  {
   "cell_type": "markdown",
   "metadata": {},
   "source": [
    "Introduction to Matplotlib\n",
    "=="
   ]
  },
  {
   "cell_type": "markdown",
   "metadata": {
    "slideshow": {
     "slide_type": "skip"
    }
   },
   "source": [
    "Now that we can start doing serious numerical analysis with Numpy arrays, we also reach the stage where we can no longer print out hundreds or thousands of values, so we need to be able to make plots to show the results."
   ]
  },
  {
   "cell_type": "markdown",
   "metadata": {},
   "source": [
    "The **Matplotlib** package can be used to make scientific-grade plots. You can import it with:"
   ]
  },
  {
   "cell_type": "code",
   "execution_count": null,
   "metadata": {},
   "outputs": [],
   "source": [
    "import matplotlib.pyplot as plt"
   ]
  },
  {
   "cell_type": "markdown",
   "metadata": {
    "slideshow": {
     "slide_type": "slide"
    }
   },
   "source": [
    "If you are using IPython and you want to make interactive plots, you can start up IPython with:\n",
    "\n",
    "    ipython --matplotlib\n",
    "\n",
    "If you now type a plotting command, an interactive plot will pop up.\n",
    "\n",
    "If you use the IPython notebook, add a cell containing:"
   ]
  },
  {
   "cell_type": "code",
   "execution_count": null,
   "metadata": {},
   "outputs": [],
   "source": [
    "%matplotlib inline"
   ]
  },
  {
   "cell_type": "markdown",
   "metadata": {},
   "source": [
    "and the plots will appear inside the notebook."
   ]
  },
  {
   "cell_type": "markdown",
   "metadata": {},
   "source": [
    "## Basic plotting"
   ]
  },
  {
   "cell_type": "markdown",
   "metadata": {
    "slideshow": {
     "slide_type": "slide"
    }
   },
   "source": [
    "The main plotting function is called ``plot``:"
   ]
  },
  {
   "cell_type": "code",
   "execution_count": null,
   "metadata": {},
   "outputs": [],
   "source": [
    "plt.plot([1,2,3,6,4,2,3,4])"
   ]
  },
  {
   "cell_type": "markdown",
   "metadata": {},
   "source": [
    "In the above example, we only gave a single list, so it will assume the x values are the indices of the list/array."
   ]
  },
  {
   "cell_type": "markdown",
   "metadata": {
    "slideshow": {
     "slide_type": "slide"
    }
   },
   "source": [
    "However, we can instead specify the x values:"
   ]
  },
  {
   "cell_type": "code",
   "execution_count": null,
   "metadata": {},
   "outputs": [],
   "source": [
    "plt.plot([3.3, 4.4, 4.5, 6.5], [3., 5., 6., 7.])"
   ]
  },
  {
   "cell_type": "markdown",
   "metadata": {
    "slideshow": {
     "slide_type": "slide"
    }
   },
   "source": [
    "Matplotlib can take **Numpy arrays**, which is what you will do most of the time:"
   ]
  },
  {
   "cell_type": "code",
   "execution_count": null,
   "metadata": {},
   "outputs": [],
   "source": [
    "import numpy as np\n",
    "x = np.linspace(0., 10., 50)\n",
    "y = np.sin(x)\n",
    "plt.plot(x, y)"
   ]
  },
  {
   "cell_type": "markdown",
   "metadata": {
    "slideshow": {
     "slide_type": "slide"
    }
   },
   "source": [
    "The ``plot`` function is actually quite complex, and for example can take arguments specifying the type of point, the color of the line, and the width of the line:"
   ]
  },
  {
   "cell_type": "code",
   "execution_count": null,
   "metadata": {},
   "outputs": [],
   "source": [
    "plt.plot(x, y, marker='o', color='green')#, linewidth=1)"
   ]
  },
  {
   "cell_type": "markdown",
   "metadata": {
    "slideshow": {
     "slide_type": "slide"
    }
   },
   "source": [
    "The above command can be shortened:"
   ]
  },
  {
   "cell_type": "code",
   "execution_count": null,
   "metadata": {},
   "outputs": [],
   "source": [
    "plt.plot(x, y, 'go-')  # means green and circles"
   ]
  },
  {
   "cell_type": "markdown",
   "metadata": {},
   "source": [
    "### Exercise:\n",
    "\n",
    "look into the matplotlib plot documentation and plot the above curve multiple times (introduce an horizontal shift each time) in 3 different colors, point and line-styles. Add x and y labels and a legend"
   ]
  },
  {
   "cell_type": "code",
   "execution_count": null,
   "metadata": {},
   "outputs": [],
   "source": [
    "# your solution here"
   ]
  },
  {
   "cell_type": "markdown",
   "metadata": {},
   "source": [
    "### Exercise 1"
   ]
  },
  {
   "cell_type": "markdown",
   "metadata": {},
   "source": [
    "We start off by loading the ``data/munich_temperatures_average_with_bad_data.txt`` file which we encountered in the introduction to Numpy (section 10):"
   ]
  },
  {
   "cell_type": "code",
   "execution_count": null,
   "metadata": {},
   "outputs": [],
   "source": [
    "# The following code reads in the file and removes bad values\n",
    "import numpy as np\n",
    "date, temperature = np.loadtxt('data/munich_temperatures_average_with_bad_data.txt', unpack=True)\n",
    "keep = np.abs(temperature) < 90\n",
    "date = date[keep]\n",
    "temperature = temperature[keep]"
   ]
  },
  {
   "cell_type": "markdown",
   "metadata": {},
   "source": [
    "Now that the data has been read in, plot the temperature against time, and **add labels**. Remember that everything in python can be customised and one of the most important aspects of a plot is correctly naming the axes and assigning physical units to them!\n",
    "> hint: plt.xlabel(...."
   ]
  },
  {
   "cell_type": "code",
   "execution_count": null,
   "metadata": {},
   "outputs": [],
   "source": [
    "# your solution here\n"
   ]
  },
  {
   "cell_type": "markdown",
   "metadata": {},
   "source": [
    "Next, try plotting the data against the fraction of the year (all years on top of each other). Note that you can use the ``%`` (modulo) operator to find the fractional part of the dates:"
   ]
  },
  {
   "cell_type": "code",
   "execution_count": null,
   "metadata": {},
   "outputs": [],
   "source": [
    "# your solution here"
   ]
  },
  {
   "cell_type": "markdown",
   "metadata": {},
   "source": [
    "## Adding complexity"
   ]
  },
  {
   "cell_type": "markdown",
   "metadata": {},
   "source": [
    "### Scatter plots"
   ]
  },
  {
   "cell_type": "markdown",
   "metadata": {
    "slideshow": {
     "slide_type": "slide"
    }
   },
   "source": [
    "While the ``plot`` function can be used to show scatter plots, it is mainly used for line plots, and the ``scatter`` function is more often used for scatter plots, because it allows more fine control of the markers:"
   ]
  },
  {
   "cell_type": "code",
   "execution_count": null,
   "metadata": {},
   "outputs": [],
   "source": [
    "x = np.random.random(100)\n",
    "y = np.random.random(100)\n",
    "plt.scatter(x, y)"
   ]
  },
  {
   "cell_type": "code",
   "execution_count": null,
   "metadata": {},
   "outputs": [],
   "source": [
    "x = np.random.random(100)\n",
    "y = np.random.random(100)\n",
    "z = np.linspace(0,100,100)\n",
    "plt.scatter(x, y,c=z,cmap='rainbow')\n",
    "plt.colorbar()"
   ]
  },
  {
   "cell_type": "markdown",
   "metadata": {},
   "source": [
    "### Histograms"
   ]
  },
  {
   "cell_type": "markdown",
   "metadata": {
    "slideshow": {
     "slide_type": "slide"
    }
   },
   "source": [
    "Histograms are easy to plot using the ``hist`` function:"
   ]
  },
  {
   "cell_type": "code",
   "execution_count": null,
   "metadata": {},
   "outputs": [],
   "source": [
    "date, temperature = np.loadtxt('data/munich_temperatures_average_with_bad_data.txt', unpack=True)\n",
    "h = plt.hist(temperature,bins=100)"
   ]
  },
  {
   "cell_type": "markdown",
   "metadata": {},
   "source": [
    "Alternatively, the same distribution can be obtained as an array by using the function **numpy.histogram**. Look into the online documentation and produce a plot equivalent to the one above by using it.\n",
    "Consult the [np.histogram() documentation](https://numpy.org/doc/stable/reference/generated/numpy.histogram.html) if needed.\n",
    ">\n",
    "> Careful with the return of `histogram()`. Notice how it is a tuple containing two arrays. What does each mean?"
   ]
  },
  {
   "cell_type": "code",
   "execution_count": null,
   "metadata": {},
   "outputs": [],
   "source": [
    " # your solution here"
   ]
  },
  {
   "cell_type": "markdown",
   "metadata": {},
   "source": [
    "### Plot images"
   ]
  },
  {
   "cell_type": "markdown",
   "metadata": {
    "slideshow": {
     "slide_type": "slide"
    }
   },
   "source": [
    "You can also show two-dimensional arrays with the ``imshow`` function:"
   ]
  },
  {
   "cell_type": "code",
   "execution_count": null,
   "metadata": {},
   "outputs": [],
   "source": [
    "array = np.random.random((64, 64))\n",
    "plt.imshow(array,origin='lower') # origin=lower sets the direction of the y-axis. Try without it to see what happens!\n",
    "plt.colorbar()"
   ]
  },
  {
   "cell_type": "markdown",
   "metadata": {
    "slideshow": {
     "slide_type": "slide"
    }
   },
   "source": [
    "And the colormap can be changed (https://matplotlib.org/stable/tutorials/colors/colormaps.html) \n",
    "and more than one plot can be shown at the same time:"
   ]
  },
  {
   "cell_type": "markdown",
   "metadata": {},
   "source": [
    "### Multiple panels"
   ]
  },
  {
   "cell_type": "markdown",
   "metadata": {},
   "source": [
    "As you learn python better, you will find out that there are multiple ways to include more than one panel in a plot. One of the easiest for a quick test (but not necessarily the best one overall) is **subplots**"
   ]
  },
  {
   "cell_type": "code",
   "execution_count": null,
   "metadata": {},
   "outputs": [],
   "source": [
    "#specify number of panels as rows x columns: here 1 x 2\n",
    "# specify figure global size (15x8)\n",
    "plt.subplots(1,2,figsize=(15,8))\n",
    "plt.subplot(1,2,1)\n",
    "plt.imshow(array)\n",
    "plt.colorbar()\n",
    "plt.subplot(1,2,2)\n",
    "plt.imshow(array, cmap=plt.cm.gist_heat)\n",
    "plt.colorbar()\n",
    "\n"
   ]
  },
  {
   "cell_type": "markdown",
   "metadata": {},
   "source": [
    "More appropriately, you define a figure that contains the subplots and this allows you to iterate:"
   ]
  },
  {
   "cell_type": "code",
   "execution_count": null,
   "metadata": {},
   "outputs": [],
   "source": [
    "fig, axes = plt.subplots(1, 2, figsize=(12,6))\n",
    "\n",
    "axes[0].imshow(array)\n",
    "axes[1].imshow(array, cmap=plt.cm.gist_heat)\n"
   ]
  },
  {
   "cell_type": "markdown",
   "metadata": {},
   "source": [
    "# More customisation"
   ]
  },
  {
   "cell_type": "markdown",
   "metadata": {},
   "source": [
    "## Other useful commands"
   ]
  },
  {
   "cell_type": "markdown",
   "metadata": {},
   "source": [
    "Remember that **each aspect** of a matplotlin plot can be customised: text size, symbols dimension, color, number of panels, scale, colormap etc. So there will be a way to change your plot in whatever way you want. From this point of you, internet is your friend!\n",
    "\n",
    "A few examples:"
   ]
  },
  {
   "cell_type": "code",
   "execution_count": null,
   "metadata": {},
   "outputs": [],
   "source": [
    "plt.xscale('log') # to make the scale of an axis logarithmic: useful for quantities that span \n",
    "                    #order of magnitudes!\n",
    "plt.legend() # to plot the legend of the plot. For this you will need to add a label for each \n",
    "            # variable that you want to see in the legend\n",
    "plt.tickparams(...) # many options to change the size of the numbers on the axes, the label sizes, etc..\n",
    "plt.fill_between() #useful for uncertainty regions\n",
    "plt.errorbars() # to visualise the errorbars associated with points"
   ]
  },
  {
   "cell_type": "markdown",
   "metadata": {},
   "source": [
    "Here is an example of a plot with many of these concepts applied:"
   ]
  },
  {
   "cell_type": "code",
   "execution_count": null,
   "metadata": {},
   "outputs": [],
   "source": [
    "x = np.linspace(0., 10., 50)\n",
    "y = np.sin(x)\n",
    "\n",
    "fig,ax = plt.subplots(1,2,figsize=(14,6))\n",
    "\n",
    "ax[0].plot(x, y,'go-',markersize=10,mfc='none',linestyle='-',label='points 1')\n",
    "ax[0].plot(x+1, y,'rs-',markersize=10,mfc='yellow',mec='red',linestyle='-',label='points 2')\n",
    "ax[0].legend(loc='lower left')\n",
    "ax[0].set_xlabel('x',size=12) #note that here is set_xlabel instead of plt.xlabel \n",
    "ax[0].set_ylabel('y',size=12)  #(one of the many mysteryes of python!)\n",
    "\n",
    "\n",
    "ax[1].tick_params(which='both',direction='in',right='on',top='on',labelsize=13,size=3)\n",
    "\n",
    "ax[1].plot(x, y,'b--',label='points 3')\n",
    "ax[1].fill_between(x,y+0.75,y-0.75,color='blue',alpha=0.1,label='range 1')\n",
    "ax[1].fill_between(x,y+0.5,y-0.5,color='blue',alpha=0.3,label='range 2')\n",
    "ax[1].errorbar(x,y,yerr=0.25,color='b',label='measurements')\n",
    "ax[1].legend(frameon=False,loc='upper center')\n",
    "ax[1].set_xlabel('x',size=12)\n",
    "ax[1].set_ylabel('y',size=12)\n",
    "ax[1].set_xlim(0,10)   # also here we add the \"set_\"\n",
    "\n"
   ]
  },
  {
   "cell_type": "markdown",
   "metadata": {},
   "source": [
    "## Astronomy images"
   ]
  },
  {
   "cell_type": "markdown",
   "metadata": {},
   "source": [
    "Another very useful package is called \"Astropy\". It contains a lot of useful modules for physics, astrophysics and astronomy, such as loading files of different types, calculating values of cosmic distances, perform convolutions etc. You can find more info at https://docs.astropy.org/en/stable/index.html\n",
    "If you installed Python with Anaconda, the Astropy modules are already included and what you need to type is: \n",
    "from astropy import modulename\n",
    "\n",
    "We will now use a function able to read .fits files, commonly used to save telescope images. These files can be visualised in python or with a specific program called ds9 (https://sites.google.com/cfa.harvard.edu/saoimageds9)"
   ]
  },
  {
   "cell_type": "code",
   "execution_count": null,
   "metadata": {},
   "outputs": [],
   "source": [
    "from astropy.io import fits"
   ]
  },
  {
   "cell_type": "code",
   "execution_count": null,
   "metadata": {
    "scrolled": false
   },
   "outputs": [],
   "source": [
    "f = fits.open(\"./data/galaxy.fits\")\n",
    "image = f[0].data\n",
    "plt.figure(figsize=(10,10))\n",
    "plt.imshow(image,vmin=0,vmax=1,cmap='jet')\n",
    "plt.colorbar()\n",
    "plt.title('This is Galaxy M101')\n",
    "# https://en.wikipedia.org/wiki/Pinwheel_Galaxy\n",
    "image.shape"
   ]
  },
  {
   "cell_type": "markdown",
   "metadata": {},
   "source": [
    "### Contours"
   ]
  },
  {
   "cell_type": "markdown",
   "metadata": {},
   "source": [
    "it is possible to define contours marking the regions in the image at a certain value"
   ]
  },
  {
   "cell_type": "code",
   "execution_count": null,
   "metadata": {},
   "outputs": [],
   "source": [
    "plt.figure(figsize=(10,10))\n",
    "plt.imshow(image,vmin=0,vmax=1,cmap='jet',origin='lower')\n",
    "plt.colorbar()\n",
    "plt.contour(image,colors='w',levels=[0.2,0.4,0.6,0.8,1],alpha=.8)\n",
    "plt.savefig('my_plot.png')"
   ]
  },
  {
   "cell_type": "markdown",
   "metadata": {},
   "source": [
    "## Field lines"
   ]
  },
  {
   "cell_type": "markdown",
   "metadata": {},
   "source": [
    "For a **vector field**, you can plot a depiction of the field lines with *plt.streamplot*\n",
    "\n",
    "Here this is done in the x-y plane for the field\n",
    "    $$\\vec{K}(\\vec{r})=\\vec{K}(x,y,z) = (-y,x,0) = \\vec{e}_z \\times \\vec{r}$$\n",
    "    \n",
    "We use *np.meshgrid* that returns N-D arrays according to the number of input arrays."
   ]
  },
  {
   "cell_type": "code",
   "execution_count": null,
   "metadata": {},
   "outputs": [],
   "source": [
    "x = np.arange(-10,10,1)\n",
    "y = np.arange(-10,10,1)\n",
    "\n",
    "xx,yy = np.meshgrid(x,y)  # define meshgrid of all coordinates\n",
    "                          # (can also work out radii etc)\n",
    "U = -yy                   # Here we define the 'strength' of \n",
    "V = xx                    # the vectors in the x and y directions\n",
    "\n",
    "print(U,V)\n",
    "\n",
    "plt.figure(figsize=(10,10))\n",
    "\n",
    "plt.streamplot(x,y,U,V,color='k')"
   ]
  },
  {
   "cell_type": "code",
   "execution_count": null,
   "metadata": {},
   "outputs": [],
   "source": [
    "# For reference:\n",
    "x=[1,2,3]\n",
    "y=[1,2]\n",
    "(a,b)=np.meshgrid(x,y)\n",
    "print(np.shape(a),np.shape(b))\n",
    "print(a)\n",
    "print(b)"
   ]
  },
  {
   "cell_type": "markdown",
   "metadata": {},
   "source": [
    "## Saving plots to files"
   ]
  },
  {
   "cell_type": "markdown",
   "metadata": {
    "slideshow": {
     "slide_type": "slide"
    }
   },
   "source": [
    "To save a plot to a file, you can do for example:"
   ]
  },
  {
   "cell_type": "code",
   "execution_count": null,
   "metadata": {},
   "outputs": [],
   "source": [
    "plt.savefig('my_plot.png')"
   ]
  },
  {
   "cell_type": "markdown",
   "metadata": {},
   "source": [
    "and you can then view the resulting file like you would view a normal image. On Linux, you can also do:\n",
    "\n",
    "    $ eog my_plot.png\n",
    "\n",
    "in the terminal (or whichever image viewer is available)."
   ]
  },
  {
   "cell_type": "markdown",
   "metadata": {},
   "source": [
    "## Learning more"
   ]
  },
  {
   "cell_type": "markdown",
   "metadata": {
    "slideshow": {
     "slide_type": "skip"
    }
   },
   "source": [
    "The easiest way to find out more about a function and available options is to use the ``?`` help in IPython:\n",
    "\n",
    "        In [11]: plt.hist?\n",
    "\n",
    "    Definition: plt.hist(x, bins=10, range=None, normed=False, weights=None, cumulative=False, bottom=None, histtype='bar', align='mid', orientation='vertical', rwidth=None, log=False, color=None, label=None, stacked=False, hold=None, **kwargs)\n",
    "    Docstring:\n",
    "    Plot a histogram.\n",
    "\n",
    "    Call signature::\n",
    "\n",
    "      hist(x, bins=10, range=None, normed=False, weights=None,\n",
    "             cumulative=False, bottom=None, histtype='bar', align='mid',\n",
    "             orientation='vertical', rwidth=None, log=False,\n",
    "             color=None, label=None, stacked=False,\n",
    "             **kwargs)\n",
    "\n",
    "    Compute and draw the histogram of *x*. The return value is a\n",
    "    tuple (*n*, *bins*, *patches*) or ([*n0*, *n1*, ...], *bins*,\n",
    "    [*patches0*, *patches1*,...]) if the input contains multiple\n",
    "    data.\n",
    "\n",
    "    etc.\n",
    "\n",
    "But sometimes you don't even know how to make a specific type of plot, in which case you can look at the [Matplotlib Gallery](http://matplotlib.org/gallery.html) for example plots and scripts.\n"
   ]
  },
  {
   "cell_type": "markdown",
   "metadata": {},
   "source": [
    "### Exercise 2"
   ]
  },
  {
   "cell_type": "markdown",
   "metadata": {},
   "source": [
    "1. Use Numpy to generate 10000 random values following a Gaussian/Normal distribution, and make a histogram. Try changing the number of bins to properly see the Gaussian. Try overplotting a Gaussian function on top of it using a colored line, and adjust the normalization so that the histogram and the line are aligned.\n",
    "\n",
    "2. Do the same for a Poisson distribution. Compare the Poisson distribution for expectation values $\\lambda <15$ with the appropriate Gaussian.\n",
    "\n",
    "> Hint: use \"random\" and think about defining a function for the Gaussian curve"
   ]
  },
  {
   "cell_type": "markdown",
   "metadata": {},
   "source": [
    "### Exercise 3"
   ]
  },
  {
   "cell_type": "markdown",
   "metadata": {},
   "source": [
    "Work out the magnetic field lines of two equal but infinite line currents  along the z-axis that are separated by a distance $a$ along the y-axis.\n",
    "\n",
    "Since the stream lines are scaled, one can drop constants.\n",
    "\n",
    "The $\\vec{B}$-Field of a single line current $I$ is\n",
    "$$\\vec{B} (\\vec{r})= \\frac{\\mu_0 I}{2 \\pi} \\frac{1}{|\\vec{r}|} \\vec{e}_{\\varphi}$$\n",
    "    \n",
    "**Only** with time left: Can you plot the fieldlines in the x-y plane for a circular coil with radius a in the x-z plane?\n",
    "The Biot-Savart law for a wire element is\n",
    "\n",
    "$$d\\vec{B} (\\vec{r})= \\frac{\\mu_0 I}{4 \\pi} \\frac{d \\vec{l} \\times \\vec{r}}{|\\vec{r}|^3}$$\n",
    "\n",
    "where $\\vec{r}$ is the vector from the current element to the place of measurement.\n",
    "\n",
    "You can even code the problem in a way that you can add an aribitrary number of coils, e.g. for a long coil or a ring coil (torus)."
   ]
  },
  {
   "cell_type": "code",
   "execution_count": null,
   "metadata": {
    "code_folding": []
   },
   "outputs": [],
   "source": [
    "# your solution here\n"
   ]
  },
  {
   "cell_type": "code",
   "execution_count": null,
   "metadata": {},
   "outputs": [],
   "source": []
  }
 ],
 "metadata": {
  "anaconda-cloud": {},
  "kernelspec": {
   "display_name": "Python 3",
   "language": "python",
   "name": "python3"
  },
  "language_info": {
   "codemirror_mode": {
    "name": "ipython",
    "version": 3
   },
   "file_extension": ".py",
   "mimetype": "text/x-python",
   "name": "python",
   "nbconvert_exporter": "python",
   "pygments_lexer": "ipython3",
   "version": "3.8.8"
  },
  "toc": {
   "base_numbering": 1,
   "nav_menu": {},
   "number_sections": true,
   "sideBar": true,
   "skip_h1_title": false,
   "title_cell": "Table of Contents",
   "title_sidebar": "Contents",
   "toc_cell": false,
   "toc_position": {},
   "toc_section_display": true,
   "toc_window_display": false
  }
 },
 "nbformat": 4,
 "nbformat_minor": 1
}
