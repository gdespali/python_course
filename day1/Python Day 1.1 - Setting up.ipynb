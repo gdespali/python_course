{
 "cells": [
  {
   "cell_type": "markdown",
   "metadata": {},
   "source": [
    "# Getting set up\n",
    "First, we will get set up with a working Python \"envirnonment\".\n",
    "For this entire course we will use a remote JupyterLab instance - this means that we will connect to a server through a web browser, and all code will be developed, run, and saved there.\n",
    "\n",
    "Start up a web browser (either on your own laptop, or on a CIP computer), and type in the following URL:\n",
    "\n",
    "* <https://jupyter2.kip.uni-heidelberg.de>\n",
    "    \n",
    "You then need to log in with your usual University ID (\"URZ account\").\n",
    "\n",
    "> Note: at some other point, if you want to run a JupyterLab instance on your own computer, the typical way is to open a shell (or terminal), go to the folder containing your work and notebooks, and type `jupyter lab`.\n",
    ">\n",
    "> If your personal computer does not have python or jupyterlab installed, a good solution is to download and install [MiniConda](https://docs.conda.io/en/latest/miniconda.html)."
   ]
  },
  {
   "cell_type": "markdown",
   "metadata": {},
   "source": [
    "## Three ways to run python code"
   ]
  },
  {
   "cell_type": "markdown",
   "metadata": {},
   "source": [
    "In general there are three ways to develop and run python programs:\n",
    "1. In the terminal, using the `python` command-line interpreter (or better yet, with the `ipython` interface).\n",
    "2. In a stand-alone script (a file with the `.py` extension).\n",
    "3. In a Jupyter \"notebook\" (a file with the `.ipynb` extension).\n",
    "\n",
    "We will see all three in this course. You can always use whatever is most convenient.\n",
    "\n",
    "> Note: if you have never used, or heard of, Linux, or worked \"at the command line\" (instead of within a graphical operating system like Windows or Mac OSX), then please go through the [Command Line Tutorial for Beginners](https://ubuntu.com/tutorials/command-line-for-beginners)."
   ]
  },
  {
   "cell_type": "markdown",
   "metadata": {},
   "source": [
    "### 1. Command-line python"
   ]
  },
  {
   "cell_type": "markdown",
   "metadata": {},
   "source": [
    "To run Python code interactively, one can use the standard Python prompt, which can be launched by typing ``python`` in your standard shell:\n",
    "\n",
    "```bash\n",
    "    $ python\n",
    "    Python 3.7.3 (default, Jan 22 2021, 20:04:44) \n",
    "    [GCC 8.3.0] on linux\n",
    "    Type \"help\", \"copyright\", \"credits\" or \"license\" for more information.\n",
    "    >>>\n",
    "```\n",
    "\n",
    "The ``>>>`` indicates that Python is ready to accept commands. If you type ``a = 1`` then press enter, this will assign the value ``1`` to ``a``. If you then type ``a`` you will see the value of ``a`` (this is equivalent to ``print a``):\n",
    "\n",
    "```python\n",
    "    >>> a = 1\n",
    "    >>> a\n",
    "    1\n",
    "```\n",
    "\n",
    "The Python shell can execute any Python code, even multi-line statements, though it is often more convenient to use Python non-interactively for such cases.\n",
    "\n",
    "The default Python shell is limited, and IPython (\"interactive Python\") is a useful add-on that adds many features, including the ability to edit and navigate the history of previous commands, as well as the ability to tab-complete variable and function names. To start up IPython, type:\n",
    "\n",
    "```bash\n",
    "    $ ipython\n",
    "    Python 3.7.3 (default, Jan 22 2021, 20:04:44) \n",
    "    Type 'copyright', 'credits' or 'license' for more information\n",
    "    IPython 7.12.0 -- An enhanced Interactive Python. Type '?' for help.\n",
    "\n",
    "    In [1]:\n",
    "```\n",
    "\n",
    "Inputs and outputs are prepended by ``In [x]`` and ``Out [x]``, respectively. If we now type the same commands as before, we get:\n",
    "\n",
    "```python\n",
    "    In [1]: a = 1\n",
    "\n",
    "    In [2]: a\n",
    "    Out[2]: 1\n",
    "```\n",
    "\n",
    "If you now type the up arrow twice, you will get back to `a = 1`.\n",
    "\n",
    "To exit the Python shell at any time and return to the command prompt of the terminal, hit `Ctrl+C` or type `exit()`."
   ]
  },
  {
   "cell_type": "markdown",
   "metadata": {},
   "source": [
    "### 2. Stand-alone python scripts"
   ]
  },
  {
   "cell_type": "markdown",
   "metadata": {},
   "source": [
    "Complex programs (and homework assignments) should be saved as a 'python script', which is simply a text file with a `.py` extension.\n",
    "\n",
    "As you work on, and keep changing this program, you can re-run it over and over again, until it works as desired.\n",
    "\n",
    "For example, create a new file called `myscript.py` and add the following lines:\n",
    "\n",
    "```python\n",
    "    x = 5\n",
    "    print('Twice x is:')\n",
    "    print(x*2)\n",
    "```\n",
    "\n",
    "Then we can run this script in two ways:\n",
    "\n",
    "1. At the terminal, type `python myscript.py`. This will start python, run your script, and then exit.\n",
    "2. Within an ipython session, type `run myscript`. This will run the script within the interpreter."
   ]
  },
  {
   "cell_type": "markdown",
   "metadata": {},
   "source": [
    "### 3. Jupyter notebooks"
   ]
  },
  {
   "cell_type": "markdown",
   "metadata": {},
   "source": [
    "A \"notebook\", as the name implies, is a nice way to keep track of your work. It is meant to contain **three things**: the code itself, the output of the executed code, and normal text.\n",
    "The document we are reading right now is a notebook.\n",
    "It is fully interactive.\n",
    "\n",
    "* Double-click a \"cell\" to edit it.\n",
    "* Shift-enter to \"run\" a cell.\n",
    "* Switch a cell between \"code\" and \"Markdown\" (text) using the menu at the top.\n",
    "* Drag cells with the mouse to re-arrange.\n",
    "* Keyboard shortcuts: `a` to insert cell above, `b` to insert cell below, `m` to convert cell to markdown, `y` to convert cell to code, `dd` to delete a cell.\n",
    "\n",
    "If you have a code cell which produces output, this will be shown in the notebook:"
   ]
  },
  {
   "cell_type": "markdown",
   "metadata": {},
   "source": [
    "# First steps"
   ]
  },
  {
   "cell_type": "markdown",
   "metadata": {},
   "source": [
    "Click on ``New Notebook`` on the right, which will start a new document. You can change the name of the document by clicking on the **Untitled** name at the top and entering a new name. Make sure you then save the document (make sure that you save regularly as you might lose content if you close the browser window!).\n",
    "\n",
    "At first glance, a notebook looks like a fairly typical application - it has a menubar (File, Edit, View, etc.) and a tool bar with icons. Below this, you will see an empty cell, in which you can type any Python code. You can write several lines of code, and once it is ready to run, you can press shift-enter and it will get executed:"
   ]
  },
  {
   "cell_type": "code",
   "execution_count": null,
   "metadata": {},
   "outputs": [],
   "source": [
    "x=1.2"
   ]
  },
  {
   "cell_type": "code",
   "execution_count": null,
   "metadata": {},
   "outputs": [],
   "source": [
    "print(x)"
   ]
  },
  {
   "cell_type": "code",
   "execution_count": null,
   "metadata": {},
   "outputs": [],
   "source": [
    "a = 0.6534\n",
    "print(a)"
   ]
  },
  {
   "cell_type": "markdown",
   "metadata": {},
   "source": [
    "You can then click on that cell, change the Python code, and press shift-enter again to re-execute the code. Once you have executed a cell once, a new cell will appear below. You can again enter some code, then press shift-enter to execute it."
   ]
  },
  {
   "cell_type": "markdown",
   "metadata": {},
   "source": [
    "## Text\n"
   ]
  },
  {
   "cell_type": "markdown",
   "metadata": {},
   "source": [
    "It is likely that you will want to enter actual text (non-code) in the notebook. To do this, click on a cell, and in the drop-down menu in the toolbar, select 'Markdown'. This is a specific type of syntax for writing text. You can just write text normally and press shift-enter to *render* it:\n",
    "\n",
    "    This is some plain text\n",
    "\n",
    "To edit it, double click on the cell. You can also enter section headings using the following syntax:\n",
    "\n",
    "    This is a title\n",
    "    ===============\n",
    "\n",
    "    This is a sub-title\n",
    "    -------------------\n",
    "\n",
    "which will look like:\n",
    "\n",
    "This is a title\n",
    "===============\n",
    "\n",
    "This is a sub-title\n",
    "-------------------\n",
    "\n",
    "Finally, if you are familiar with LaTeX, you can enter equations using:\n",
    "\n",
    "    $$E = m c^2$$\n",
    "\n",
    "on a separate line, or:\n",
    "\n",
    "    The equation $p=h/\\lambda$ is very important\n",
    "\n",
    "to include it in a sentence. This will look like:\n",
    "\n",
    "$$E = m c^2$$\n",
    "\n",
    "The equation $p=h/\\lambda$ is very important\n",
    "\n",
    "For more information about using LaTeX for equations, see [this guide](http://en.wikibooks.org/wiki/LaTeX/Mathematics).\n",
    "\n",
    "\n",
    "You can also have images in a notebook:"
   ]
  },
  {
   "cell_type": "code",
   "execution_count": null,
   "metadata": {},
   "outputs": [],
   "source": [
    "from IPython import display\n",
    "display.Image(\"day1_jupyterlab_overview.png\")"
   ]
  },
  {
   "cell_type": "markdown",
   "metadata": {},
   "source": [
    "## Splitting/deleting/moving cells"
   ]
  },
  {
   "cell_type": "markdown",
   "metadata": {},
   "source": [
    "You can split, delete, and move cells by going to 'Edit' and selecting the appropriate command. Some of the commands are also available in the toolbar - put your mouse over the icon and wait for a second, and it will tell you what it does."
   ]
  },
  {
   "cell_type": "markdown",
   "metadata": {},
   "source": [
    "## Sharing your notebook"
   ]
  },
  {
   "cell_type": "markdown",
   "metadata": {},
   "source": [
    "IPython notebooks are plain text files – you can view them with a text editor, and other people can dump them into their own folders to re-run them.\n",
    "\n",
    "Find the files under the name you gave the notebook, with an ipynb extension.\n",
    "\n",
    "Of course, if you know version control, the notebooks are diff- and merge-friendly.  If you are already using subversion or github: try it with your notebooks."
   ]
  },
  {
   "cell_type": "markdown",
   "metadata": {},
   "source": [
    "## Important notes"
   ]
  },
  {
   "cell_type": "markdown",
   "metadata": {},
   "source": [
    "A few important notes about using the notebook:\n",
    "\n",
    "* Save often! There is an auto-save in the notebook, but better to also save explicitly from time to time.\n",
    "\n",
    "* Code *can* be executed in an order different from top to bottom, but note that if you do this variables will not be reset. So for example if you type:"
   ]
  },
  {
   "cell_type": "code",
   "execution_count": null,
   "metadata": {},
   "outputs": [],
   "source": [
    "a = 1"
   ]
  },
  {
   "cell_type": "markdown",
   "metadata": {},
   "source": [
    "then go higher up and type:"
   ]
  },
  {
   "cell_type": "code",
   "execution_count": null,
   "metadata": {},
   "outputs": [],
   "source": [
    "print(a)"
   ]
  },
  {
   "cell_type": "markdown",
   "metadata": {},
   "source": [
    "it will give the value you previously set. To make sure that your code works from top to bottom, go to the 'Cell' menu item and go to **All Output** -> **Clear** then in the **Cell** menu, select **Run All**.\n",
    "\n",
    "In addition, even if you remove a cell, then variables set in that cell still exist unless you restart the notebook. If you want to restart a notebook, you can select **Kernel** -> **Restart**. This removes any variables from memory, and you have to start running the notebook from the start."
   ]
  },
  {
   "cell_type": "markdown",
   "metadata": {},
   "source": [
    "**NOTE: Please try out your notebooks after a fresh kernel restart before you submit your solutions**"
   ]
  },
  {
   "cell_type": "code",
   "execution_count": null,
   "metadata": {},
   "outputs": [],
   "source": []
  }
 ],
 "metadata": {
  "anaconda-cloud": {},
  "kernelspec": {
   "display_name": "Python 3",
   "language": "python",
   "name": "python3"
  },
  "language_info": {
   "codemirror_mode": {
    "name": "ipython",
    "version": 3
   },
   "file_extension": ".py",
   "mimetype": "text/x-python",
   "name": "python",
   "nbconvert_exporter": "python",
   "pygments_lexer": "ipython3",
   "version": "3.8.8"
  },
  "toc": {
   "base_numbering": 1,
   "nav_menu": {},
   "number_sections": true,
   "sideBar": true,
   "skip_h1_title": false,
   "title_cell": "Table of Contents",
   "title_sidebar": "Contents",
   "toc_cell": false,
   "toc_position": {},
   "toc_section_display": true,
   "toc_window_display": false
  }
 },
 "nbformat": 4,
 "nbformat_minor": 1
}
